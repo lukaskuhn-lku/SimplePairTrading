{
 "cells": [
  {
   "cell_type": "markdown",
   "id": "44cf5d70-82d0-4193-8d25-b20a0d920e6e",
   "metadata": {},
   "source": [
    "## Custom Classes and Functions"
   ]
  },
  {
   "cell_type": "markdown",
   "id": "518686fd-b233-4a02-a958-5b77229a4da0",
   "metadata": {},
   "source": [
    "### Trade class "
   ]
  },
  {
   "cell_type": "code",
   "execution_count": 1,
   "id": "48e3c6e9-eb53-4152-8eb4-caf1db8b6935",
   "metadata": {},
   "outputs": [],
   "source": [
    "class Trade:\n",
    "    def __init__(self, ticker, price, count, holding_until, long):\n",
    "        self.ticker = ticker\n",
    "        self.price = price\n",
    "        self.holding_until = holding_until\n",
    "        self.long = long\n",
    "        self.count = count\n",
    "        self.profit = 0\n",
    "    \n",
    "    def is_due(self, date):\n",
    "        if date >= self.holding_until:\n",
    "            return True\n",
    "        else:\n",
    "            return False\n",
    "        \n",
    "    def close(self, current_price):\n",
    "        dif = 0\n",
    "        if self.long:\n",
    "            dif = current_price - self.price\n",
    "        else:\n",
    "            dif = self.price - current_price\n",
    "        \n",
    "        self.profit = dif*self.count\n",
    "        return self.profit\n",
    "        \n",
    "    \n",
    "    def __str__(self):\n",
    "        return f\"{self.ticker} at {self.price} holding until {str(self.holding_until)}\""
   ]
  },
  {
   "cell_type": "markdown",
   "id": "4c0e5c2c-1b63-44f6-bd6e-64163318ea5c",
   "metadata": {},
   "source": [
    "### Simple backtester"
   ]
  },
  {
   "cell_type": "code",
   "execution_count": 30,
   "id": "c5d56070-d9cb-4bcb-a883-fef0d91f203d",
   "metadata": {},
   "outputs": [],
   "source": [
    "from datetime import date, timedelta\n",
    "import math\n",
    "\n",
    "def pair_backtesting(cash, df, step_func):\n",
    "    profit_series = [cash]\n",
    "    cash_on_hand = [cash]\n",
    "    open_trades = []\n",
    "    closed_trades = []\n",
    "        \n",
    "    counter = 0\n",
    "    for index, row in df.iterrows():\n",
    "        counter += 1\n",
    "        current_profit = profit_series[len(profit_series)-1]\n",
    "        current_cash =  cash_on_hand[len(cash_on_hand)-1]\n",
    "        \n",
    "        for trade in open_trades:\n",
    "            if trade.is_due(index):\n",
    "                trade.close(row[trade.ticker])\n",
    "                current_profit += trade.profit\n",
    "                current_cash = current_cash + int(math.sqrt(trade.profit**2))\n",
    "                open_trades.remove(trade)\n",
    "                closed_trades.append(trade)\n",
    "\n",
    "        trades = step_func(df.iloc[0:counter])\n",
    "        for trade in trades:\n",
    "            cost = trade.price * trade.count\n",
    "            current_cash = current_cash - cost\n",
    "            open_trades.append(trade)\n",
    "\n",
    "        profit_series.append(current_profit)\n",
    "        cash_on_hand.append(current_cash)\n",
    "\n",
    "    return profit_series, cash_on_hand, closed_trades"
   ]
  },
  {
   "cell_type": "markdown",
   "id": "6822634d-815c-445b-9ab1-098cc2b00087",
   "metadata": {},
   "source": [
    "### Z-Score Pair Spread Strategy"
   ]
  },
  {
   "cell_type": "code",
   "execution_count": 31,
   "id": "d70636eb-b497-4501-a021-c4cc58972b23",
   "metadata": {},
   "outputs": [],
   "source": [
    "def zscore_pair_spread(df):\n",
    "    \n",
    "    threshold = 1.0\n",
    "    holding_time = timedelta(days=15)\n",
    "    multiplier = 1\n",
    "\n",
    "    \n",
    "    if df.shape[0] > 0:\n",
    "        spread = df[df.columns[0]] - df[df.columns[1]]\n",
    "        ratios_mavg5 = spread.rolling(window=5, center=False).mean()\n",
    "        ratios_mavg20 = spread.rolling(window=20, center=False).mean()\n",
    "        std_20 = spread.rolling(window=20, center=False).std()\n",
    "        zscore_20_5 = (ratios_mavg5 - ratios_mavg20)/std_20\n",
    "        current_z_score = zscore_20_5.tail(1)[0]\n",
    "        \n",
    "        last = df.iloc[-1]\n",
    "        # Index hier irgendwie abrufen und dann unten bei holding_until einfügen\n",
    "        last_date = datetime.strptime(str(last.name), '%Y-%m-%d %H:%M:%S')\n",
    "        \n",
    "        ratio = last[df.columns[0]] / last[df.columns[1]]\n",
    "        \n",
    "        if current_z_score < -threshold:        \n",
    "            trades = []\n",
    "            trades.append(Trade(ticker=df.columns[0], price=last[df.columns[0]], count=multiplier, holding_until=last_date+holding_time, long=True))\n",
    "            trades.append(Trade(ticker=df.columns[1], price=last[df.columns[1]], count=multiplier*ratio, holding_until=last_date+holding_time, long=False))\n",
    "            return trades\n",
    "        elif current_z_score > threshold:\n",
    "            trades = []\n",
    "            trades.append(Trade(ticker=df.columns[0], price=last[df.columns[0]], count=multiplier, holding_until=last_date+holding_time, long=False))\n",
    "            trades.append(Trade(ticker=df.columns[1], price=last[df.columns[1]], count=multiplier*ratio, holding_until=last_date+holding_time, long=True))\n",
    "            return trades\n",
    "        else:\n",
    "            return []\n",
    "        \n",
    "    else:\n",
    "        return []"
   ]
  },
  {
   "cell_type": "markdown",
   "id": "b3b1119a-0a3c-4360-8537-b842769a8df5",
   "metadata": {},
   "source": [
    "### Z-Score Pair Ratio Strategy"
   ]
  },
  {
   "cell_type": "code",
   "execution_count": 41,
   "id": "4b98e4ed-c9ef-4996-981c-166c5b1d5a2e",
   "metadata": {},
   "outputs": [],
   "source": [
    "def zscore_pair_ratio(df):\n",
    "    \n",
    "    threshold = 1.25\n",
    "    holding_time = timedelta(days=15)\n",
    "    multiplier = 1\n",
    "\n",
    "    \n",
    "    if df.shape[0] > 0:\n",
    "        spread = df[df.columns[0]] / df[df.columns[1]]\n",
    "        ratios_mavg5 = spread.rolling(window=5, center=False).mean()\n",
    "        ratios_mavg20 = spread.rolling(window=20, center=False).mean()\n",
    "        std_20 = spread.rolling(window=20, center=False).std()\n",
    "        zscore_20_5 = (ratios_mavg5 - ratios_mavg20)/std_20\n",
    "        current_z_score = zscore_20_5.tail(1)[0]\n",
    "        \n",
    "        last = df.iloc[-1]\n",
    "        # Index hier irgendwie abrufen und dann unten bei holding_until einfügen\n",
    "        last_date = datetime.strptime(str(last.name), '%Y-%m-%d %H:%M:%S')\n",
    "        \n",
    "        ratio = last[df.columns[0]] / last[df.columns[1]]\n",
    "        \n",
    "        if current_z_score < -threshold:        \n",
    "            trades = []\n",
    "            trades.append(Trade(ticker=df.columns[0], price=last[df.columns[0]], count=multiplier, holding_until=last_date+holding_time, long=True))\n",
    "            trades.append(Trade(ticker=df.columns[1], price=last[df.columns[1]], count=multiplier*ratio, holding_until=last_date+holding_time, long=False))\n",
    "            return trades\n",
    "        elif current_z_score > threshold:\n",
    "            trades = []\n",
    "            trades.append(Trade(ticker=df.columns[0], price=last[df.columns[0]], count=multiplier, holding_until=last_date+holding_time, long=False))\n",
    "            trades.append(Trade(ticker=df.columns[1], price=last[df.columns[1]], count=multiplier*ratio, holding_until=last_date+holding_time, long=True))\n",
    "            return trades\n",
    "        else:\n",
    "            return []\n",
    "        \n",
    "    else:\n",
    "        return []"
   ]
  },
  {
   "cell_type": "code",
   "execution_count": 33,
   "id": "0f25b59e-d9fe-4422-826a-bf8a6e48083a",
   "metadata": {},
   "outputs": [],
   "source": [
    "from statsmodels.tsa.stattools import adfuller\n",
    "def adfuller_tests(stock1, stock2):\n",
    "    Spread_ADF = adfuller(stock1-stock2)[1]\n",
    "    Ratio_ADF = adfuller(stock1/stock2)[1]\n",
    "    \n",
    "    return Spread_ADF, Ratio_ADF"
   ]
  },
  {
   "cell_type": "markdown",
   "id": "703818e2-6141-4dd6-9181-253ab0c6bbb0",
   "metadata": {},
   "source": [
    "## Get Data"
   ]
  },
  {
   "cell_type": "code",
   "execution_count": 34,
   "id": "f0c069b4-dd87-4ce4-be81-13b03dd81ea3",
   "metadata": {},
   "outputs": [
    {
     "name": "stdout",
     "output_type": "stream",
     "text": [
      "(756, 10)\n"
     ]
    },
    {
     "data": {
      "text/html": [
       "<div>\n",
       "<style scoped>\n",
       "    .dataframe tbody tr th:only-of-type {\n",
       "        vertical-align: middle;\n",
       "    }\n",
       "\n",
       "    .dataframe tbody tr th {\n",
       "        vertical-align: top;\n",
       "    }\n",
       "\n",
       "    .dataframe thead th {\n",
       "        text-align: right;\n",
       "    }\n",
       "</style>\n",
       "<table border=\"1\" class=\"dataframe\">\n",
       "  <thead>\n",
       "    <tr style=\"text-align: right;\">\n",
       "      <th></th>\n",
       "      <th>MRVL</th>\n",
       "      <th>ADI</th>\n",
       "      <th>AVGO</th>\n",
       "      <th>INTC</th>\n",
       "      <th>TSM</th>\n",
       "      <th>MCHP</th>\n",
       "      <th>TXN</th>\n",
       "      <th>NVDA</th>\n",
       "      <th>LRCX</th>\n",
       "      <th>KLAC</th>\n",
       "    </tr>\n",
       "  </thead>\n",
       "  <tbody>\n",
       "    <tr>\n",
       "      <th>2020-12-24 00:00:00</th>\n",
       "      <td>46.900013</td>\n",
       "      <td>142.645386</td>\n",
       "      <td>421.697937</td>\n",
       "      <td>46.199398</td>\n",
       "      <td>104.738602</td>\n",
       "      <td>67.816071</td>\n",
       "      <td>158.897644</td>\n",
       "      <td>129.840012</td>\n",
       "      <td>477.047455</td>\n",
       "      <td>256.767151</td>\n",
       "    </tr>\n",
       "    <tr>\n",
       "      <th>2020-12-28 00:00:00</th>\n",
       "      <td>46.830235</td>\n",
       "      <td>142.852707</td>\n",
       "      <td>422.108429</td>\n",
       "      <td>46.199398</td>\n",
       "      <td>104.916504</td>\n",
       "      <td>67.558220</td>\n",
       "      <td>158.730515</td>\n",
       "      <td>128.903198</td>\n",
       "      <td>472.836548</td>\n",
       "      <td>255.280548</td>\n",
       "    </tr>\n",
       "    <tr>\n",
       "      <th>2020-12-29 00:00:00</th>\n",
       "      <td>46.082626</td>\n",
       "      <td>141.845596</td>\n",
       "      <td>419.332703</td>\n",
       "      <td>48.476486</td>\n",
       "      <td>104.333359</td>\n",
       "      <td>67.017761</td>\n",
       "      <td>158.445435</td>\n",
       "      <td>129.335373</td>\n",
       "      <td>469.976288</td>\n",
       "      <td>252.089310</td>\n",
       "    </tr>\n",
       "    <tr>\n",
       "      <th>2020-12-30 00:00:00</th>\n",
       "      <td>47.348579</td>\n",
       "      <td>144.333771</td>\n",
       "      <td>424.991669</td>\n",
       "      <td>47.848328</td>\n",
       "      <td>107.634552</td>\n",
       "      <td>67.825981</td>\n",
       "      <td>159.939651</td>\n",
       "      <td>131.358871</td>\n",
       "      <td>481.129303</td>\n",
       "      <td>257.827606</td>\n",
       "    </tr>\n",
       "    <tr>\n",
       "      <th>2020-12-31 00:00:00</th>\n",
       "      <td>47.388454</td>\n",
       "      <td>145.864197</td>\n",
       "      <td>427.943329</td>\n",
       "      <td>48.898537</td>\n",
       "      <td>107.772919</td>\n",
       "      <td>68.480492</td>\n",
       "      <td>161.345398</td>\n",
       "      <td>130.452057</td>\n",
       "      <td>469.032776</td>\n",
       "      <td>256.598663</td>\n",
       "    </tr>\n",
       "  </tbody>\n",
       "</table>\n",
       "</div>"
      ],
      "text/plain": [
       "                          MRVL         ADI        AVGO       INTC         TSM  \\\n",
       "2020-12-24 00:00:00  46.900013  142.645386  421.697937  46.199398  104.738602   \n",
       "2020-12-28 00:00:00  46.830235  142.852707  422.108429  46.199398  104.916504   \n",
       "2020-12-29 00:00:00  46.082626  141.845596  419.332703  48.476486  104.333359   \n",
       "2020-12-30 00:00:00  47.348579  144.333771  424.991669  47.848328  107.634552   \n",
       "2020-12-31 00:00:00  47.388454  145.864197  427.943329  48.898537  107.772919   \n",
       "\n",
       "                          MCHP         TXN        NVDA        LRCX        KLAC  \n",
       "2020-12-24 00:00:00  67.816071  158.897644  129.840012  477.047455  256.767151  \n",
       "2020-12-28 00:00:00  67.558220  158.730515  128.903198  472.836548  255.280548  \n",
       "2020-12-29 00:00:00  67.017761  158.445435  129.335373  469.976288  252.089310  \n",
       "2020-12-30 00:00:00  67.825981  159.939651  131.358871  481.129303  257.827606  \n",
       "2020-12-31 00:00:00  68.480492  161.345398  130.452057  469.032776  256.598663  "
      ]
     },
     "execution_count": 34,
     "metadata": {},
     "output_type": "execute_result"
    }
   ],
   "source": [
    "import pandas as pd\n",
    "import pandas_datareader as pdr\n",
    "from datetime import datetime\n",
    "\n",
    "def get_historical_Data(tickers, start_date, end_date):\n",
    "    \"\"\"This function returns a pd dataframe with all of the adjusted closing information\"\"\"\n",
    "    data = pd.DataFrame()\n",
    "    names = list()\n",
    "    for i in tickers:\n",
    "        data = pd.concat([data,pdr.get_data_yahoo(symbols=i, start=start_date, end=end_date).iloc[:,5]], axis = 1)\n",
    "        names.append(i)\n",
    "    data.columns = names\n",
    "    return data\n",
    "\n",
    "# Insert your custom tickers here:\n",
    "ticks = [\"MRVL\", \"ADI\", \"AVGO\", \"INTC\", \"TSM\", \"MCHP\", \"TXN\", \"NVDA\", \"LRCX\", \"KLAC\"] \n",
    "\n",
    "d_train = get_historical_Data(ticks, datetime(2018, 1, 1), datetime(2021, 1, 1))\n",
    "d_test = get_historical_Data(ticks, datetime(2021, 1, 1), datetime(2021, 10, 23))\n",
    "\n",
    "d = d_train.append(d_test)\n",
    "\n",
    "print(d_train.shape)\n",
    "# Most Recent Data\n",
    "d_train.tail()"
   ]
  },
  {
   "cell_type": "code",
   "execution_count": 42,
   "id": "abd7614d-9d59-44ce-ad6f-fa0c8dad0473",
   "metadata": {},
   "outputs": [
    {
     "name": "stdout",
     "output_type": "stream",
     "text": [
      "Found stationary pair in ADI and TXN with correlation 0.9810574379340552\n",
      "Cointegration P-Value: (-3.6508168914055883, 0.021168779313590038, array([-3.90789658, -3.34250874, -3.04887548]))\n",
      "AdFuller Spread P-Value: 0.25986277233166266\n",
      "AdFuller Ratio P-Value 0.029775725118743875\n"
     ]
    },
    {
     "data": {
      "image/png": "[encoded data removed]",
      "text/plain": [
       "<Figure size 432x288 with 1 Axes>"
      ]
     },
     "metadata": {
      "needs_background": "light"
     },
     "output_type": "display_data"
    },
    {
     "data": {
      "image/png": "[encoded data removed]",
      "text/plain": [
       "<Figure size 432x288 with 1 Axes>"
      ]
     },
     "metadata": {
      "needs_background": "light"
     },
     "output_type": "display_data"
    },
    {
     "data": {
      "image/png": "[encoded data removed]",
      "text/plain": [
       "<Figure size 432x288 with 1 Axes>"
      ]
     },
     "metadata": {
      "needs_background": "light"
     },
     "output_type": "display_data"
    }
   ],
   "source": [
    "import statsmodels.tsa.stattools as ts \n",
    "import matplotlib.pyplot as plt \n",
    "\n",
    "corr_matrix = d.corr()\n",
    "\n",
    "def get_redundant_pairs(df):\n",
    "    '''Get diagonal and lower triangular pairs of correlation matrix'''\n",
    "    pairs_to_drop = set()\n",
    "    cols = df.columns\n",
    "    for i in range(0, df.shape[1]):\n",
    "        for j in range(0, i+1):\n",
    "            pairs_to_drop.add((cols[i], cols[j]))\n",
    "    return pairs_to_drop\n",
    "\n",
    "def get_top_abs_correlations(df, n=5):\n",
    "    au_corr = df.corr().abs().unstack()\n",
    "    labels_to_drop = get_redundant_pairs(df)\n",
    "    au_corr = au_corr.drop(labels=labels_to_drop).sort_values(ascending=False)\n",
    "    return au_corr[0:n]\n",
    "\n",
    "# Calculate correlations, take the best 10 and run cointegration and Augmented Dickey Fuller tests on them\n",
    "# If ADFuller returns lower than 0,05 then run simple backtest on the strategy\n",
    "for idx, row in get_top_abs_correlations(d, 10).iteritems():\n",
    "    stock1 = idx[0]\n",
    "    stock2 = idx[1]\n",
    "    \n",
    "    if stock1 and stock2:\n",
    "        cointegration_res = ts.coint(d[stock1], d[stock2])\n",
    "        adfuller_spread_res, adfuller_ratio_res = adfuller_tests(d[stock1], d[stock2])\n",
    "                \n",
    "        if adfuller_spread_res < 0.05 or adfuller_ratio_res < 0.05:\n",
    "            print(f\"Found stationary pair in {stock1} and {stock2} with correlation {row}\")\n",
    "            print(f\"Cointegration P-Value: {cointegration_res}\")\n",
    "            print(f\"AdFuller Spread P-Value: {adfuller_spread_res}\")\n",
    "            print(f\"AdFuller Ratio P-Value {adfuller_ratio_res}\")      \n",
    "      \n",
    "            plt.plot(d[stock1], label=stock1)\n",
    "            plt.plot(d[stock2], label=stock2)\n",
    "            plt.show()\n",
    "            \n",
    "            profit_ratio, cash_ratio, _ = pair_backtesting(50000, d[[stock1, stock2]], zscore_pair_ratio)\n",
    "            profit_spread, cash_spread, _ = pair_backtesting(50000, d[[stock1, stock2]], zscore_pair_spread)\n",
    "\n",
    "            plt.plot(profit_ratio, label=\"Profit Ratio\")\n",
    "            plt.plot(profit_spread, label=\"Cash Spread\")\n",
    "            plt.show()  \n",
    "                \n",
    "            plt.plot(cash_ratio, label=\"Cash Ratio\")\n",
    "            plt.plot(cash_spread, label=\"Cash Spread\")\n",
    "            plt.show()"
   ]
  }
 ],
 "metadata": {
  "kernelspec": {
   "display_name": "Python 3 (ipykernel)",
   "language": "python",
   "name": "python3"
  },
  "language_info": {
   "codemirror_mode": {
    "name": "ipython",
    "version": 3
   },
   "file_extension": ".py",
   "mimetype": "text/x-python",
   "name": "python",
   "nbconvert_exporter": "python",
   "pygments_lexer": "ipython3",
   "version": "3.9.1"
  }
 },
 "nbformat": 4,
 "nbformat_minor": 5
}
